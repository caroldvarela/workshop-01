{
 "cells": [
  {
   "cell_type": "markdown",
   "metadata": {},
   "source": [
    "# Data Migration"
   ]
  },
  {
   "cell_type": "markdown",
   "metadata": {},
   "source": [
    "In this notebook, we will perform a data migration from a CSV file to a PostgreSQL database. This process includes setting up the database connection, managing the table structure, and loading transformed data.\n",
    "\n",
    "Here's what we will do:\n",
    "\n",
    "1. Configure the Environment\n",
    "2. Import the Modules\n",
    "3. Connect to the Database\n",
    "4. Create an SQLAlchemy Session\n",
    "5. Create the Candidates Table in our Database\n",
    "6. Transform and Load the Data\n",
    "\n",
    "\n",
    "It's important to have the environment variables with your database credentials _(from the .env file)_ and the requirements _(installed via pip install -r requirements.txt)_."
   ]
  },
  {
   "cell_type": "markdown",
   "metadata": {},
   "source": [
    "---"
   ]
  },
  {
   "cell_type": "markdown",
   "metadata": {},
   "source": [
    "First, we will load the environment variables from the .env file, which contains important configurations such as paths and credentials. Then, we will obtain the working directory from these variables and add it to the system path to ensure that the project's modules can be imported correctly."
   ]
  },
  {
   "cell_type": "code",
   "execution_count": 8,
   "metadata": {},
   "outputs": [
    {
     "name": "stdout",
     "output_type": "stream",
     "text": [
      "Workdir:  /Users/carol/Documents/workshop01\n"
     ]
    }
   ],
   "source": [
    "import sys\n",
    "import os\n",
    "from dotenv import load_dotenv\n",
    "\n",
    "load_dotenv()\n",
    "work_dir = os.getenv('WORK_DIR')\n",
    "\n",
    "sys.path.append(work_dir)\n",
    "\n",
    "print('Workdir: ', work_dir)"
   ]
  },
  {
   "cell_type": "markdown",
   "metadata": {},
   "source": [
    "Now, we import the necessary modules and classes for the rest of the notebook."
   ]
  },
  {
   "cell_type": "code",
   "execution_count": 9,
   "metadata": {},
   "outputs": [],
   "source": [
    "from src.db_connection import build_engine\n",
    "from sqlalchemy.orm import sessionmaker\n",
    "from sqlalchemy import inspect\n",
    "from src.model import Candidates\n",
    "from sqlalchemy.exc import SQLAlchemyError\n",
    "from src.transform import Transform"
   ]
  },
  {
   "cell_type": "markdown",
   "metadata": {},
   "source": [
    "The build_engine function is called to configure and create a connection to the PostgreSQL database."
   ]
  },
  {
   "cell_type": "code",
   "execution_count": 10,
   "metadata": {},
   "outputs": [
    {
     "name": "stdout",
     "output_type": "stream",
     "text": [
      "Successfully connected to the database workshop1!\n"
     ]
    }
   ],
   "source": [
    "engine = build_engine()"
   ]
  },
  {
   "cell_type": "markdown",
   "metadata": {},
   "source": [
    "A SQLAlchemy session is created using the database engine established in the previous step. Why? This session is necessary for performing read and write operations on the database."
   ]
  },
  {
   "cell_type": "code",
   "execution_count": 11,
   "metadata": {},
   "outputs": [],
   "source": [
    "Session = sessionmaker(bind=engine)\n",
    "session = Session()"
   ]
  },
  {
   "cell_type": "markdown",
   "metadata": {},
   "source": [
    "We check if the Candidates table already exists in the database. If it does, the table is dropped. Then, a new Candidates table is created. This ensures that the table is up-to-date and ready to receive new data. If any errors occur during this process, an error message is printed."
   ]
  },
  {
   "cell_type": "code",
   "execution_count": 12,
   "metadata": {},
   "outputs": [
    {
     "name": "stdout",
     "output_type": "stream",
     "text": [
      "Table creation was successful.\n"
     ]
    }
   ],
   "source": [
    "try:\n",
    "    inspector = inspect(engine)\n",
    "\n",
    "    if inspector.has_table('Candidates'):\n",
    "        try:\n",
    "            Candidates.__table__.drop(engine)\n",
    "        except SQLAlchemyError as e:\n",
    "            print(f\"Error dropping table: {e}\")\n",
    "            raise\n",
    "    try:\n",
    "        Candidates.__table__.create(engine)\n",
    "        print(\"Table creation was successful.\")\n",
    "    except SQLAlchemyError as e:\n",
    "        print(f\"Error creating table: {e}\")\n",
    "        raise\n",
    "\n",
    "except SQLAlchemyError as error:\n",
    "    print(f\"An error occurred: {error}\")"
   ]
  },
  {
   "cell_type": "markdown",
   "metadata": {},
   "source": [
    "An instance of the Transform class is created to read the file. Then, data transformations are applied, such as renaming columns and adding IDs. The transformed data is inserted into the Candidates table in the database. Finally, the database session is closed to free up resources."
   ]
  },
  {
   "cell_type": "code",
   "execution_count": 13,
   "metadata": {},
   "outputs": [
    {
     "name": "stdout",
     "output_type": "stream",
     "text": [
      "Data uploaded successfully\n"
     ]
    }
   ],
   "source": [
    "try:\n",
    "    df = Transform('../data/candidates.csv')\n",
    "    \n",
    "    df.rename_columns()\n",
    "    df.insert_ids()\n",
    "    \n",
    "    df.df.to_sql('Candidates', engine, if_exists='append', index=False)\n",
    "    \n",
    "    print(\"Data uploaded successfully\")\n",
    "\n",
    "except Exception as e:\n",
    "    print(f\"An error occurred: {e}\")\n",
    "\n",
    "finally:\n",
    "    if session:\n",
    "        session.close()"
   ]
  }
 ],
 "metadata": {
  "kernelspec": {
   "display_name": "venv",
   "language": "python",
   "name": "python3"
  },
  "language_info": {
   "codemirror_mode": {
    "name": "ipython",
    "version": 3
   },
   "file_extension": ".py",
   "mimetype": "text/x-python",
   "name": "python",
   "nbconvert_exporter": "python",
   "pygments_lexer": "ipython3",
   "version": "3.12.5"
  }
 },
 "nbformat": 4,
 "nbformat_minor": 2
}
