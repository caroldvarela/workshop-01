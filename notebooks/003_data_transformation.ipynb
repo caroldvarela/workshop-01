{
 "cells": [
  {
   "cell_type": "markdown",
   "metadata": {},
   "source": [
    "# Data Transformation"
   ]
  },
  {
   "cell_type": "markdown",
   "metadata": {},
   "source": [
    "In this notebook, a comprehensive data transformation process will be carried out using a combination of tools and data processing techniques.\n",
    "\n",
    "The goal is to ensure that the data is in a structured and usable format, ready for any subsequent analysis or reporting.\n",
    "\n",
    "It's important to have the environment variables with your database credentials _(from the .env file)_ and the requirements _(installed via pip install -r requirements.txt)_."
   ]
  },
  {
   "cell_type": "markdown",
   "metadata": {},
   "source": [
    "---"
   ]
  },
  {
   "cell_type": "markdown",
   "metadata": {},
   "source": [
    "We will load the environment variables from the .env file, which contains important configurations such as paths and credentials. Then, we will obtain the working directory from these variables and add it to the system path to ensure that the project's modules can be imported correctly."
   ]
  },
  {
   "cell_type": "code",
   "execution_count": 7,
   "metadata": {},
   "outputs": [
    {
     "name": "stdout",
     "output_type": "stream",
     "text": [
      "Workdir:  /Users/carol/Documents/workshop01\n"
     ]
    }
   ],
   "source": [
    "import sys\n",
    "import os\n",
    "from dotenv import load_dotenv\n",
    "\n",
    "load_dotenv()\n",
    "work_dir = os.getenv('WORK_DIR')\n",
    "\n",
    "sys.path.append(work_dir)\n",
    "\n",
    "print('Workdir: ', work_dir)"
   ]
  },
  {
   "cell_type": "markdown",
   "metadata": {},
   "source": [
    "Import the necessary modules and classes for the rest of the notebook."
   ]
  },
  {
   "cell_type": "code",
   "execution_count": 8,
   "metadata": {},
   "outputs": [],
   "source": [
    "from src.db_connection import build_engine\n",
    "from sqlalchemy.orm import sessionmaker\n",
    "from sqlalchemy import inspect\n",
    "from src.model import Candidates_transformed\n",
    "from sqlalchemy.exc import SQLAlchemyError\n",
    "from src.transform import Transform"
   ]
  },
  {
   "cell_type": "markdown",
   "metadata": {},
   "source": [
    "The build_engine function is called to configure and create a connection to the PostgreSQL database."
   ]
  },
  {
   "cell_type": "code",
   "execution_count": 9,
   "metadata": {},
   "outputs": [
    {
     "name": "stdout",
     "output_type": "stream",
     "text": [
      "Successfully connected to the database workshop1!\n"
     ]
    }
   ],
   "source": [
    "engine = build_engine()"
   ]
  },
  {
   "cell_type": "markdown",
   "metadata": {},
   "source": [
    "A SQLAlchemy session is created using the database engine established in the previous step. This session is necessary for performing read and write operations on the database."
   ]
  },
  {
   "cell_type": "code",
   "execution_count": 10,
   "metadata": {},
   "outputs": [],
   "source": [
    "Session = sessionmaker(bind=engine)\n",
    "session = Session()"
   ]
  },
  {
   "cell_type": "markdown",
   "metadata": {},
   "source": [
    "Check if the Candidates_transformed table already exists in the database. If it does, the table is dropped. Then, a new Candidates table is created. This ensures that the table is up-to-date and ready to receive new data. If any errors occur during this process, an error message is printed."
   ]
  },
  {
   "cell_type": "code",
   "execution_count": 11,
   "metadata": {},
   "outputs": [
    {
     "name": "stdout",
     "output_type": "stream",
     "text": [
      "Table creation was successful.\n"
     ]
    }
   ],
   "source": [
    "try:\n",
    "    inspector = inspect(engine)\n",
    "\n",
    "    if inspector.has_table('Candidates_transformed'):\n",
    "        try:\n",
    "            Candidates_transformed.__table__.drop(engine)\n",
    "        except SQLAlchemyError as e:\n",
    "            print(f\"Error dropping table: {e}\")\n",
    "            raise\n",
    "    try:\n",
    "        Candidates_transformed.__table__.create(engine)\n",
    "        print(\"Table creation was successful.\")\n",
    "    except SQLAlchemyError as e:\n",
    "        print(f\"Error creating table: {e}\")\n",
    "        raise\n",
    "\n",
    "except SQLAlchemyError as error:\n",
    "    print(f\"An error occurred: {error}\")"
   ]
  },
  {
   "cell_type": "markdown",
   "metadata": {},
   "source": [
    "It's time to perform the transformations.\n",
    "\n",
    "These transformations will include:\n",
    "\n",
    "- Generating an ID column.\n",
    "- Renaming the columns (as they originally have spaces).\n",
    "- Adding the 'Hired' column as requested, based on the Code Challenge Score and Technical Interview Score.\n",
    "- Group the categories, as there are too many and they could be reduced."
   ]
  },
  {
   "cell_type": "code",
   "execution_count": 12,
   "metadata": {},
   "outputs": [
    {
     "name": "stdout",
     "output_type": "stream",
     "text": [
      "Data uploaded successfully\n"
     ]
    }
   ],
   "source": [
    "try:\n",
    "    df = Transform('../data/candidates.csv')\n",
    "    \n",
    "    df.insert_ids()\n",
    "    df.rename_columns()\n",
    "    df.add_hired_column()\n",
    "    df.technology_to_category()\n",
    "    \n",
    "    \n",
    "    df.df.to_sql('Candidates_transformed', engine, if_exists='append', index=False)\n",
    "    \n",
    "    print(\"Data uploaded successfully\")\n",
    "\n",
    "except Exception as e:\n",
    "    print(f\"An error occurred: {e}\")\n",
    "\n",
    "finally:\n",
    "    if session:\n",
    "        session.close()"
   ]
  }
 ],
 "metadata": {
  "kernelspec": {
   "display_name": "venv",
   "language": "python",
   "name": "python3"
  },
  "language_info": {
   "codemirror_mode": {
    "name": "ipython",
    "version": 3
   },
   "file_extension": ".py",
   "mimetype": "text/x-python",
   "name": "python",
   "nbconvert_exporter": "python",
   "pygments_lexer": "ipython3",
   "version": "3.12.5"
  }
 },
 "nbformat": 4,
 "nbformat_minor": 2
}
